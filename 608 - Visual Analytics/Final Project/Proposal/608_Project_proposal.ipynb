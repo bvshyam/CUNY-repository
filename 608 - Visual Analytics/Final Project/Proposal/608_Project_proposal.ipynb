{
 "cells": [
  {
   "cell_type": "markdown",
   "metadata": {},
   "source": [
    "## 608 - Project Proposal"
   ]
  },
  {
   "cell_type": "markdown",
   "metadata": {},
   "source": [
    "### Question:"
   ]
  },
  {
   "cell_type": "markdown",
   "metadata": {},
   "source": [
    "Final Project Proposal - Due Sunday March 26\n",
    "\n",
    "Your final project is to create a public visualization (static or interactive) using data relevant\n",
    "to a current policy, business, or justice issue. You may use any dataset you can find for this\n",
    "assignment, as long as it is either public or you have permission from the data’s\n",
    "owner/administrator to work with it and share it.\n",
    "\n",
    "Recommended data sources are: governmental data, data provided by a\n",
    "non-profit/Nongovernmental organizations, and data available from large, semi-structured\n",
    "data sets (ie social networks, company financials, etc).\n",
    "\n",
    "You must document each step of your data analysis process (excluding data acquisition) in\n",
    "code: this will include changing the format of the data and the creation of any images or\n",
    "interactive displays that are made.\n",
    "\n",
    "You must also include a short (2-3 paragraph) write-up on the visualization. This write-up\n",
    "must include the following: the data source, what the parameters of the data set are\n",
    "(geography, timeframe, what the data points are, etc) what the data shows, and why it is\n",
    "important. Your proposal and your final visualization must be cleared by the instructor, and\n",
    "will be hosted on a public page (it will be available for the world to see).\n",
    "\n",
    "Grading:\n",
    "\n",
    "This assignment will account for 40% of your final grade. Points will be awarded for the\n",
    "following components:\n",
    "\n",
    "25% - finding your dataset(s) and getting approval for your project on-time, recognition of\n",
    "strength/weaknesses of data, analysis to find insights in the data\n",
    "\n",
    "25% - data handling: cleaning, outlier/null handling, and transfer/loading data to the web\n",
    "\n",
    "40% - data presentation: compliance with best data visualization practices, clarity,\n",
    "information-to-ink ratio, how memorable the visualization is\n",
    "\n",
    "10% - contextual write-up: why the data is important, why the insights are important Due\n",
    "Dates:\n",
    "\n",
    "Note - The type of deliverable you provide will depend on the strategy you use for this\n",
    "project. If you put together an interactive visualization, you should be able to provide code\n",
    "that I will be able to run and host locally. If you are choosing static visualizations, your write\n",
    "up will be more important to your overall grade, and it may be useful to think about how\n",
    "you’re presenting these visualizations (in a formated R markdown document for example.)\n",
    "\n",
    "Proposal\n",
    "\n",
    "You must submit a proposal for your project by 03/26. This proposal must include: a link to\n",
    "the data source, an explanation of what you want to show, why this is relevant to a current\n",
    "policy, business, or justice issue, and which technologies you plan to use.\n",
    "\n",
    "Your instructor must approve this proposal: you may have to refine this somewhat. You will\n",
    "present your final project on 05/16. If you are not able to attend the lecture on those days,\n",
    "you must write-up a status report with screenshots of current progress and issues you are\n",
    "experiencing."
   ]
  },
  {
   "cell_type": "markdown",
   "metadata": {},
   "source": [
    "### Solution"
   ]
  },
  {
   "cell_type": "markdown",
   "metadata": {},
   "source": [
    "<b>Can you explain more about your project? </b>: I am planning to perform analysis and visualizations on the cars dataset. "
   ]
  },
  {
   "cell_type": "markdown",
   "metadata": {},
   "source": [
    "<b>What are the sources?</b> : Cars dataset can be obtained in below links\n",
    "\n",
    "Fuel of cars (To visualize Fuel economey of each cars): http://www.fueleconomy.gov/feg/download.shtml <br>\n",
    "Cars manufacturing according to county: https://www.marklines.com/en/vehicle_production/month?nationCode=USA <br>\n",
    "Cars recall info: https://data.world/nhtsa/nhtsas-odi-recalls<br>\n"
   ]
  },
  {
   "cell_type": "markdown",
   "metadata": {},
   "source": [
    "<b><p>What do you want to show from these datasets? </b> : Cars dataset is an extensive dataset. It contains lot of useful information. But there are not pretty good visualizations in it. I am planning to use these datasets and perform some analysis and visualizations where it is easy for everyone to understand more about cars. </p>\n",
    "<p>Adding to above point, knowing more about cars visually will help to narrow down my decision buy my second car. It </p>\n"
   ]
  },
  {
   "cell_type": "markdown",
   "metadata": {
    "collapsed": true
   },
   "source": [
    "<b>Which technologies are you going to use? </b> : I am planning to use D3 js, python packages (Seaborn, bs4, bokeh, etc) with Ipython notebook"
   ]
  },
  {
   "cell_type": "markdown",
   "metadata": {
    "collapsed": true
   },
   "source": [
    "<b>What visualizations you are going to show? </b> Below are some sample visualizations which I am planning to show. I'll try to replicate in the context of cars dataset.\n"
   ]
  },
  {
   "cell_type": "markdown",
   "metadata": {
    "collapsed": true
   },
   "source": [
    "#### 1. Parallel Coordinates for relationship between different variables"
   ]
  },
  {
   "cell_type": "code",
   "execution_count": 1,
   "metadata": {
    "collapsed": false
   },
   "outputs": [
    {
     "data": {
      "text/html": [
       "<iframe src=\"http://mbostock.github.io/d3/talk/20111116/iris-parallel.html\" width= 1200 height =600></iframe>"
      ],
      "text/plain": [
       "<IPython.core.display.HTML object>"
      ]
     },
     "metadata": {},
     "output_type": "display_data"
    }
   ],
   "source": [
    "from IPython.core.display import display, HTML\n",
    "display(HTML('<iframe src=\"http://mbostock.github.io/d3/talk/20111116/iris-parallel.html\" width= 1200 height =600></iframe>'))"
   ]
  },
  {
   "cell_type": "markdown",
   "metadata": {
    "collapsed": true
   },
   "source": [
    "#### 2. Car model and its company and country of origin with models"
   ]
  },
  {
   "cell_type": "code",
   "execution_count": 2,
   "metadata": {
    "collapsed": false
   },
   "outputs": [
    {
     "data": {
      "text/html": [
       "<iframe src=\"http://mbostock.github.io/d3/talk/20111018/tree.html\" width= 1200 height =800></iframe>"
      ],
      "text/plain": [
       "<IPython.core.display.HTML object>"
      ]
     },
     "metadata": {},
     "output_type": "display_data"
    }
   ],
   "source": [
    "display(HTML('<iframe src=\"http://mbostock.github.io/d3/talk/20111018/tree.html\" width= 1200 height =800></iframe>'))"
   ]
  },
  {
   "cell_type": "markdown",
   "metadata": {
    "collapsed": true
   },
   "source": [
    "#### 3. Car model its groupings"
   ]
  },
  {
   "cell_type": "code",
   "execution_count": 3,
   "metadata": {
    "collapsed": false
   },
   "outputs": [
    {
     "data": {
      "text/html": [
       "<iframe src=\"http://mbostock.github.io/d3/talk/20111116/pack-hierarchy.html\" width= 1100 height =800></iframe>"
      ],
      "text/plain": [
       "<IPython.core.display.HTML object>"
      ]
     },
     "metadata": {},
     "output_type": "display_data"
    }
   ],
   "source": [
    "display(HTML('<iframe src=\"http://mbostock.github.io/d3/talk/20111116/pack-hierarchy.html\" width= 1100 height =800></iframe>'))"
   ]
  },
  {
   "cell_type": "markdown",
   "metadata": {
    "collapsed": true
   },
   "source": [
    "#### 4. Car year and its fuel effeciency with country"
   ]
  },
  {
   "cell_type": "code",
   "execution_count": 4,
   "metadata": {
    "collapsed": false
   },
   "outputs": [
    {
     "data": {
      "text/html": [
       "<iframe src=\"https://bost.ocks.org/mike/nations/\" width= 1100 height =700></iframe>"
      ],
      "text/plain": [
       "<IPython.core.display.HTML object>"
      ]
     },
     "metadata": {},
     "output_type": "display_data"
    }
   ],
   "source": [
    "display(HTML('<iframe src=\"https://bost.ocks.org/mike/nations/\" width= 1100 height =700></iframe>'))"
   ]
  },
  {
   "cell_type": "markdown",
   "metadata": {
    "collapsed": true
   },
   "source": [
    "This the project which I am planning to perfom in final project. Please let me know your comments. Thanks"
   ]
  }
 ],
 "metadata": {
  "kernelspec": {
   "display_name": "Python 2",
   "language": "python",
   "name": "python2"
  },
  "language_info": {
   "codemirror_mode": {
    "name": "ipython",
    "version": 2
   },
   "file_extension": ".py",
   "mimetype": "text/x-python",
   "name": "python",
   "nbconvert_exporter": "python",
   "pygments_lexer": "ipython2",
   "version": "2.7.13"
  }
 },
 "nbformat": 4,
 "nbformat_minor": 2
}
