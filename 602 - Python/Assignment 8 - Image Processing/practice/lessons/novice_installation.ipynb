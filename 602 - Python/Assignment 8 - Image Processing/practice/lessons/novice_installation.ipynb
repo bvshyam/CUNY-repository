{
 "cells": [
  {
   "cell_type": "markdown",
   "metadata": {},
   "source": [
    "# Images as arrays\n",
    "\n",
    "Let's check the version of `scikit-image`:"
   ]
  },
  {
   "cell_type": "code",
   "execution_count": 1,
   "metadata": {},
   "outputs": [
    {
     "data": {
      "text/plain": [
       "'0.12.3'"
      ]
     },
     "execution_count": 1,
     "metadata": {},
     "output_type": "execute_result"
    }
   ],
   "source": [
    "import skimage\n",
    "skimage.__version__"
   ]
  },
  {
   "cell_type": "markdown",
   "metadata": {},
   "source": [
    "## Exercises\n",
    "\n",
    "0. Describe exercise one here.  The description may be longer than 80\n",
    "   characters, and flow over to the next line.\n",
    "\n",
    "   ```\n",
    "   def foo():\n",
    "        return 1\n",
    "\n",
    "   print(foo())\n",
    "   ```\n",
    "\n",
    "   You may want to include code snippets like the above that are not\n",
    "   executed.\n",
    "\n",
    "0. Here follows another exercise."
   ]
  }
 ],
 "metadata": {},
 "nbformat": 4,
 "nbformat_minor": 0
}
