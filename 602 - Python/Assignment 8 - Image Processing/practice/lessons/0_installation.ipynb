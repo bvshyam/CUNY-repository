{
 "cells": [
  {
   "cell_type": "markdown",
   "metadata": {},
   "source": [
    "# Preparation\n",
    "\n",
    "## Format\n",
    "\n",
    "The tutorial consists of lecture segments, followed by hands-on\n",
    "exercises.  We strongly encourage you to bring a laptop with all the\n",
    "required packages installed in order to participate fully.\n",
    "\n",
    "## Software required\n",
    "\n",
    "- Python\n",
    "\n",
    "  If you are new to Python, please install the\n",
    "  [Anaconda distribution](https://www.continuum.io/downloads) for\n",
    "  **Python version 3** (available on OSX, Linux and Windows).\n",
    "  Everyone else, feel free to use your favorite distribution, but\n",
    "  please ensure the requirements below are met:\n",
    "\n",
    "  - `numpy` >= 1.10\n",
    "  - `scipy` >= 0.15\n",
    "  - `matplotlib` >= 1.5\n",
    "  - `skimage` >= 0.12\n",
    "  - `sklearn` >= 0.17\n",
    "\n",
    "  In the next section below, we provide a test script to confirm the\n",
    "  version numbers on your system.\n",
    "\n",
    "- Jupyter\n",
    "\n",
    "  The lecture material includes Jupyter notebooks.  Please follow the\n",
    "  [Jupyter installation instructions](http://jupyter.readthedocs.io/en/latest/install.html),\n",
    "  and ensure you have version 4 or later:\n",
    "\n",
    "  ```bash\n",
    "  $ jupyter --version\n",
    "  4.1.0\n",
    "  ```\n",
    "\n",
    "## Test your setup\n",
    "\n",
    "Please run the following commands inside of Python:"
   ]
  },
  {
   "cell_type": "markdown",
   "metadata": {},
   "source": [
    "```\n",
    "import numpy as np\n",
    "import scipy as sp\n",
    "import matplotlib as mpl\n",
    "import skimage\n",
    "import sklearn\n",
    "\n",
    "for module in (np, sp, mpl, skimage, sklearn):\n",
    "    print(module.__name__, module.__version__)\n",
    "```\n"
   ]
  },
  {
   "cell_type": "markdown",
   "metadata": {},
   "source": [
    "E.g., on my computer, I see:"
   ]
  },
  {
   "cell_type": "markdown",
   "metadata": {},
   "source": [
    "```\n",
    "numpy 1.11.0\n",
    "scipy 0.17.0\n",
    "matplotlib 1.5.1\n",
    "skimage 0.12.3\n",
    "sklearn 0.17.1\n",
    "```\n"
   ]
  },
  {
   "cell_type": "markdown",
   "metadata": {},
   "source": [
    "**If you do not have a working setup, please contact the instructors.\n",
    "We have a limited number of hosted online accounts available for\n",
    "attendees.**\n",
    "\n",
    "## Downloading lecture material\n",
    "\n",
    "There are two ways of downloading the lecture materials:\n",
    "\n",
    "a) Get the `ZIP file from GitHub\n",
    "   <https://github.com/scikit-image/skimage-tutorials/archive/master.zip>`__\n",
    "b) Clone the repository at\n",
    "   https://github.com/scikit-image/skimage-tutorial"
   ]
  }
 ],
 "metadata": {
  "kernelspec": {
   "display_name": "Python 3",
   "language": "python",
   "name": "python3"
  },
  "language_info": {
   "codemirror_mode": {
    "name": "ipython",
    "version": 3
   },
   "file_extension": ".py",
   "mimetype": "text/x-python",
   "name": "python",
   "nbconvert_exporter": "python",
   "pygments_lexer": "ipython3",
   "version": "3.5.1+"
  }
 },
 "nbformat": 4,
 "nbformat_minor": 0
}
