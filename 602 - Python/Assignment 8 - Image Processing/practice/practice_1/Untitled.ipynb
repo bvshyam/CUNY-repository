{
 "cells": [
  {
   "cell_type": "code",
   "execution_count": null,
   "metadata": {
    "collapsed": false
   },
   "outputs": [],
   "source": [
    "# -*- coding: utf-8 -*-\n",
    "# IS602 Homework 8\n",
    "# Marco Siqueira Campos, versão rodando e atualizada\n",
    "\n",
    "import os\n",
    "import Tkinter #  GUI\n",
    "import tkFileDialog #  Dialog box\n",
    "import scipy.ndimage as ndimage\n",
    "import scipy.misc as misc\n",
    "from skimage import measure, io, filters\n",
    "\n",
    "\n",
    "root = Tkinter.Tk()\n",
    "root.withdraw()\n",
    "fileimage = tkFileDialog.askopenfilename(parent=root)\n",
    "\n",
    "# check the inputed file  \n",
    "print \"data file loaded:\\n\", fileimage\n",
    "\n",
    "# load the image \n",
    "raw=misc.imread(fileimage)\n",
    "\n",
    "# Extract filename\n",
    "filename = str(os.path.basename(fileimage))\n",
    " \n",
    "# Split the files for a specific tunning\n",
    "\n",
    "if filename in [\"peppers.png\"]:\n",
    "  #Threshold the image wich Gaussian filter, change gray scale to binary\n",
    " img=ndimage.gaussian_filter(raw, 2)\n",
    " thres=img>img.mean()\n",
    "#Count objects\n",
    " labels3 = measure.label(thres)\n",
    " print \"\\n numbers of objects: \",(labels3.max())\n",
    "#labeled, nr_objects = measure.label(raw)\n",
    "#Center points of objects detected \n",
    " lbl = ndimage.label(thres)[0]\n",
    " centers=ndimage.measurements.center_of_mass(thres, lbl, [1,2,3,4,5,6,7,8,9,10,11,12,13,14,15,16,17,18,19])\n",
    " print \"\\n objects center points:  \\n\", centers, '\\n'\n",
    " \n",
    "elif filename in [\"objects.png\"]:\n",
    "#Threshold the image wich Gaussian filter, change gray scale to binary\n",
    " img=ndimage.gaussian_filter(raw, 2)\n",
    " thres=img>img.mean()\n",
    "#Count objects\n",
    " labels2 = measure.label(thres)\n",
    " print \"\\n numbers of objects: \", (labels2.max())\n",
    "# labels = measure.label(raw)\n",
    "#Center points of objects detected \n",
    " lbl = ndimage.label(thres)[0]\n",
    " centers=ndimage.measurements.center_of_mass(thres, lbl, [1,2,3,4,5,6,7,8])\n",
    " print \"\\n objects center points:  \\n\", centers, '\\n' \n",
    " \n",
    "elif filename in [\"circles.png\"]: \n",
    "#Threshold the image with Otsu filter, change gray scale to binary\n",
    " T_otsu = filters.threshold_otsu(raw)\n",
    " binarized_image = (raw > T_otsu)\n",
    " img=ndimage.gaussian_filter(binarized_image, 4)\n",
    " labels1 = measure.label(img)\n",
    " print \"\\n numbers of objects: %d\" %labels1.max()\n",
    "#Center points of objects detected \n",
    " lbl = ndimage.label(thres)[0]\n",
    " centers=ndimage.measurements.center_of_mass(thres, lbl, [1,2,3,4,5])\n",
    " print \"\\n objects center points:  \\n\", centers, '\\n' \n",
    " \n",
    "\"\"\"\n",
    "References:\n",
    "https://docs.scipy.org/doc/scipy-0.15.1/reference/generated/scipy.ndimage.measurements.center_of_mass.html\n",
    "http://stackoverflow.com/questions/38619382/how-to-count-objects-in-image-using-python\n",
    "\n",
    "\n",
    "\"\"\""
   ]
  },
  {
   "cell_type": "code",
   "execution_count": null,
   "metadata": {
    "collapsed": true
   },
   "outputs": [],
   "source": []
  }
 ],
 "metadata": {
  "kernelspec": {
   "display_name": "Python 2",
   "language": "python",
   "name": "python2"
  },
  "language_info": {
   "codemirror_mode": {
    "name": "ipython",
    "version": 2
   },
   "file_extension": ".py",
   "mimetype": "text/x-python",
   "name": "python",
   "nbconvert_exporter": "python",
   "pygments_lexer": "ipython2",
   "version": "2.7.13"
  }
 },
 "nbformat": 4,
 "nbformat_minor": 2
}
