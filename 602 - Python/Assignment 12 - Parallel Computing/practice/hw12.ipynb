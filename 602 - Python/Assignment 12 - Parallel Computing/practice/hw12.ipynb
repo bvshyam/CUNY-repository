{
 "cells": [
  {
   "cell_type": "markdown",
   "metadata": {},
   "source": [
    "## IS602 Homework 12\n",
    "### Marco Siqueira Campos\n"
   ]
  },
  {
   "cell_type": "code",
   "execution_count": 1,
   "metadata": {
    "collapsed": true
   },
   "outputs": [],
   "source": [
    "# Do the hw11 in parallel and compare with original solution"
   ]
  },
  {
   "cell_type": "code",
   "execution_count": 1,
   "metadata": {
    "collapsed": false
   },
   "outputs": [
    {
     "ename": "ImportError",
     "evalue": "No module named 'Tkinter'",
     "output_type": "error",
     "traceback": [
      "\u001b[1;31m---------------------------------------------------------------------------\u001b[0m",
      "\u001b[1;31mImportError\u001b[0m                               Traceback (most recent call last)",
      "\u001b[1;32m<ipython-input-1-3eedf6e056b6>\u001b[0m in \u001b[0;36m<module>\u001b[1;34m()\u001b[0m\n\u001b[1;32m----> 1\u001b[1;33m \u001b[1;32mimport\u001b[0m \u001b[0mTkinter\u001b[0m\u001b[1;33m\u001b[0m\u001b[0m\n\u001b[0m\u001b[0;32m      2\u001b[0m \u001b[1;32mimport\u001b[0m \u001b[0mtkFileDialog\u001b[0m\u001b[1;33m\u001b[0m\u001b[0m\n\u001b[0;32m      3\u001b[0m \u001b[1;32mimport\u001b[0m \u001b[0mpandas\u001b[0m \u001b[1;32mas\u001b[0m \u001b[0mpd\u001b[0m\u001b[1;33m\u001b[0m\u001b[0m\n\u001b[0;32m      4\u001b[0m \u001b[1;32mimport\u001b[0m \u001b[0mnumpy\u001b[0m \u001b[1;32mas\u001b[0m \u001b[0mnp\u001b[0m\u001b[1;33m\u001b[0m\u001b[0m\n\u001b[0;32m      5\u001b[0m \u001b[1;32mimport\u001b[0m \u001b[0mos\u001b[0m\u001b[1;33m\u001b[0m\u001b[0m\n",
      "\u001b[1;31mImportError\u001b[0m: No module named 'Tkinter'"
     ]
    }
   ],
   "source": [
    "import Tkinter\n",
    "import tkFileDialog\n",
    "import pandas as pd\n",
    "import numpy as np\n",
    "import os \n",
    "import timeit\n",
    "import ipyparallel"
   ]
  },
  {
   "cell_type": "code",
   "execution_count": null,
   "metadata": {
    "collapsed": true
   },
   "outputs": [],
   "source": [
    "root = Tkinter.Tk()\n",
    "root.withdraw()\n",
    "filename = tkFileDialog.askopenfilename(parent=root)"
   ]
  },
  {
   "cell_type": "code",
   "execution_count": null,
   "metadata": {
    "collapsed": false
   },
   "outputs": [],
   "source": [
    "apple=pd.read_csv(filename)\n",
    "apple.columns=['date','price','change']\n",
    "apple.head() # check if is all right"
   ]
  },
  {
   "cell_type": "code",
   "execution_count": 4,
   "metadata": {
    "collapsed": false,
    "scrolled": true
   },
   "outputs": [
    {
     "name": "stdout",
     "output_type": "stream",
     "text": [
      "Populating the interactive namespace from numpy and matplotlib\n"
     ]
    },
    {
     "data": {
      "text/plain": [
       "<matplotlib.axes._subplots.AxesSubplot at 0x1178d7f0>"
      ]
     },
     "execution_count": 4,
     "metadata": {},
     "output_type": "execute_result"
    },
    {
     "data": {
      "image/png": "[encoded data removed]",
      "text/plain": [
       "<matplotlib.figure.Figure at 0x94caef0>"
      ]
     },
     "metadata": {},
     "output_type": "display_data"
    }
   ],
   "source": [
    "# change for numeric and convert the first value to NaN\n",
    "apple.change=pd.to_numeric(apple.change, errors='coerce')\n",
    "# Compute de mean and standard deviation \n",
    "mu=np.mean(apple.change)\n",
    "sigma=np.std(apple.change)\n",
    "%pylab inline\n",
    "apple.change.plot.hist()"
   ]
  },
  {
   "cell_type": "code",
   "execution_count": 5,
   "metadata": {
    "collapsed": true
   },
   "outputs": [],
   "source": [
    "# Variables set-up\n",
    "M=10000 # iterations number\n",
    "S0 = apple['price'][251] # asset price at t=0\n",
    "N = 20 #number of time steps\n",
    "d20=[]"
   ]
  },
  {
   "cell_type": "code",
   "execution_count": 6,
   "metadata": {
    "collapsed": false
   },
   "outputs": [
    {
     "name": "stdout",
     "output_type": "stream",
     "text": [
      "10000000 loops, best of 3: 52.2 ns per loop\n"
     ]
    },
    {
     "data": {
      "text/plain": [
       "349.20124093761217"
      ]
     },
     "execution_count": 6,
     "metadata": {},
     "output_type": "execute_result"
    }
   ],
   "source": [
    "%timeit d20\n",
    "new=[] \n",
    "for i in range(M):\n",
    "    S=S0\n",
    "    d20=np.random.normal(mu,sigma,N)\n",
    "    for n in d20:\n",
    "        S = S + n*S                 \n",
    "    new.append(S)    \n",
    "   \n",
    "np.percentile(new,1)"
   ]
  },
  {
   "cell_type": "code",
   "execution_count": 2,
   "metadata": {
    "collapsed": false
   },
   "outputs": [
    {
     "ename": "ImportError",
     "evalue": "No module named ipyparallel",
     "output_type": "error",
     "traceback": [
      "\u001b[0;31m---------------------------------------------------------------------------\u001b[0m",
      "\u001b[0;31mImportError\u001b[0m                               Traceback (most recent call last)",
      "\u001b[0;32m<ipython-input-2-3bc3c24b783a>\u001b[0m in \u001b[0;36m<module>\u001b[0;34m()\u001b[0m\n\u001b[1;32m      1\u001b[0m \u001b[1;31m# At notebook terminal change by hand for 4 clusters\u001b[0m\u001b[1;33m\u001b[0m\u001b[1;33m\u001b[0m\u001b[0m\n\u001b[1;32m      2\u001b[0m \u001b[1;31m# equivalent at Ipcluster start -n 4\u001b[0m\u001b[1;33m\u001b[0m\u001b[1;33m\u001b[0m\u001b[0m\n\u001b[0;32m----> 3\u001b[0;31m \u001b[1;32mfrom\u001b[0m \u001b[0mipyparallel\u001b[0m \u001b[1;32mimport\u001b[0m \u001b[0mClient\u001b[0m\u001b[1;33m\u001b[0m\u001b[0m\n\u001b[0m\u001b[1;32m      4\u001b[0m \u001b[0mclients\u001b[0m\u001b[1;33m=\u001b[0m\u001b[0mipyparallel\u001b[0m\u001b[1;33m.\u001b[0m\u001b[0mClient\u001b[0m\u001b[1;33m(\u001b[0m\u001b[1;33m)\u001b[0m\u001b[1;33m\u001b[0m\u001b[0m\n\u001b[1;32m      5\u001b[0m \u001b[0mdview\u001b[0m\u001b[1;33m=\u001b[0m\u001b[0mclients\u001b[0m\u001b[1;33m.\u001b[0m\u001b[0mdirect_view\u001b[0m \u001b[1;33m(\u001b[0m\u001b[1;33m)\u001b[0m\u001b[1;33m\u001b[0m\u001b[0m\n",
      "\u001b[0;31mImportError\u001b[0m: No module named ipyparallel"
     ]
    }
   ],
   "source": [
    "# At notebook terminal change by hand for 4 clusters\n",
    "# equivalent at Ipcluster start -n 4\n",
    "from ipyparallel import Client\n",
    "clients=ipyparallel.Client()\n",
    "dview=clients.direct_view ()"
   ]
  },
  {
   "cell_type": "code",
   "execution_count": 3,
   "metadata": {
    "collapsed": false
   },
   "outputs": [
    {
     "name": "stderr",
     "output_type": "stream",
     "text": [
      "ERROR:root:Cell magic `%%px` not found.\n"
     ]
    }
   ],
   "source": [
    "%%px\n",
    "import Tkinter\n",
    "import tkFileDialog\n",
    "import pandas as pd\n",
    "import numpy as np\n",
    "import os \n",
    "import timeit\n",
    "import ipyparallel\n",
    "root = Tkinter.Tk()\n",
    "root.withdraw()\n",
    "filename = tkFileDialog.askopenfilename(parent=root)\n",
    "apple=pd.read_csv(filename)\n",
    "apple.columns=['date','price','change']\n",
    "print apple.head() # check if is all right\n",
    "# change for numeric and convert the first value to NaN\n",
    "apple.change=pd.to_numeric(apple.change, errors='coerce')\n",
    "# Compute de mean and standard deviation \n",
    "mu=np.mean(apple.change)\n",
    "sigma=np.std(apple.change)\n",
    "\n",
    "M=10000 # iterations number\n",
    "S0 = apple['price'][251] # asset price at t=0\n",
    "N = 20 #number of time steps\n",
    "\n",
    "# parallel\n",
    "clients = ipyparallel.Client()\n",
    "dview = clients.direct_view\n",
    "\n"
   ]
  },
  {
   "cell_type": "code",
   "execution_count": 10,
   "metadata": {
    "collapsed": false
   },
   "outputs": [
    {
     "name": "stdout",
     "output_type": "stream",
     "text": [
      "[stdout:0] \n",
      "10000000 loops, best of 3: 85.8 ns per loop\n",
      "345.823078249\n",
      "[stdout:1] \n",
      "10000000 loops, best of 3: 82.7 ns per loop\n",
      "346.566289746\n",
      "[stdout:2] \n",
      "1000000 loops, best of 3: 163 ns per loop\n",
      "347.905682588\n",
      "[stdout:3] \n",
      "The slowest run took 17.00 times longer than the fastest. This could mean that an intermediate result is being cached.\n",
      "10000000 loops, best of 3: 85.3 ns per loop\n",
      "346.386235266\n"
     ]
    }
   ],
   "source": [
    "%%px\n",
    "d20=[]\n",
    "%timeit d20\n",
    "new=[]\n",
    "for i in range(M):\n",
    "    S=S0\n",
    "    d20=np.random.normal(mu,sigma,N)\n",
    "    for n in d20:\n",
    "        S = S + n*S                 \n",
    "    new.append(S)    \n",
    "   \n",
    "print np.percentile(new,1)"
   ]
  },
  {
   "cell_type": "code",
   "execution_count": null,
   "metadata": {
    "collapsed": true
   },
   "outputs": [],
   "source": []
  }
 ],
 "metadata": {
  "anaconda-cloud": {},
  "kernelspec": {
   "display_name": "Python 3",
   "language": "python",
   "name": "python3"
  },
  "language_info": {
   "codemirror_mode": {
    "name": "ipython",
    "version": 3
   },
   "file_extension": ".py",
   "mimetype": "text/x-python",
   "name": "python",
   "nbconvert_exporter": "python",
   "pygments_lexer": "ipython3",
   "version": "3.5.1"
  }
 },
 "nbformat": 4,
 "nbformat_minor": 1
}
