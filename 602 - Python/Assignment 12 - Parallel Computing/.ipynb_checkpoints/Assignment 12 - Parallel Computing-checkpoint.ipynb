{
 "cells": [
  {
   "cell_type": "code",
   "execution_count": 12,
   "metadata": {
    "collapsed": true
   },
   "outputs": [],
   "source": [
    "import ipyparallel as parallel\n",
    "import pandas as pd\n",
    "import numpy as np\n",
    "import random\n",
    "import timeit, functools\n",
    "import copy"
   ]
  },
  {
   "cell_type": "code",
   "execution_count": 13,
   "metadata": {
    "collapsed": false,
    "scrolled": true
   },
   "outputs": [
    {
     "data": {
      "text/html": [
       "<div>\n",
       "<table border=\"1\" class=\"dataframe\">\n",
       "  <thead>\n",
       "    <tr style=\"text-align: right;\">\n",
       "      <th></th>\n",
       "      <th>date</th>\n",
       "      <th>price</th>\n",
       "      <th>percent_change</th>\n",
       "    </tr>\n",
       "  </thead>\n",
       "  <tbody>\n",
       "    <tr>\n",
       "      <th>0</th>\n",
       "      <td>1/3/2011</td>\n",
       "      <td>329.570</td>\n",
       "      <td>XXXXX</td>\n",
       "    </tr>\n",
       "    <tr>\n",
       "      <th>1</th>\n",
       "      <td>1/4/2011</td>\n",
       "      <td>331.290</td>\n",
       "      <td>0.005218922</td>\n",
       "    </tr>\n",
       "    <tr>\n",
       "      <th>2</th>\n",
       "      <td>1/5/2011</td>\n",
       "      <td>334.000</td>\n",
       "      <td>0.008180144</td>\n",
       "    </tr>\n",
       "    <tr>\n",
       "      <th>3</th>\n",
       "      <td>1/6/2011</td>\n",
       "      <td>333.730</td>\n",
       "      <td>-0.000808383</td>\n",
       "    </tr>\n",
       "    <tr>\n",
       "      <th>4</th>\n",
       "      <td>1/7/2011</td>\n",
       "      <td>336.120</td>\n",
       "      <td>0.007161478</td>\n",
       "    </tr>\n",
       "    <tr>\n",
       "      <th>5</th>\n",
       "      <td>1/10/2011</td>\n",
       "      <td>342.455</td>\n",
       "      <td>0.018847435</td>\n",
       "    </tr>\n",
       "    <tr>\n",
       "      <th>6</th>\n",
       "      <td>1/11/2011</td>\n",
       "      <td>341.640</td>\n",
       "      <td>-0.002379875</td>\n",
       "    </tr>\n",
       "    <tr>\n",
       "      <th>7</th>\n",
       "      <td>1/12/2011</td>\n",
       "      <td>344.420</td>\n",
       "      <td>0.00813722</td>\n",
       "    </tr>\n",
       "    <tr>\n",
       "      <th>8</th>\n",
       "      <td>1/13/2011</td>\n",
       "      <td>345.680</td>\n",
       "      <td>0.003658324</td>\n",
       "    </tr>\n",
       "    <tr>\n",
       "      <th>9</th>\n",
       "      <td>1/14/2011</td>\n",
       "      <td>348.480</td>\n",
       "      <td>0.008099977</td>\n",
       "    </tr>\n",
       "    <tr>\n",
       "      <th>10</th>\n",
       "      <td>1/18/2011</td>\n",
       "      <td>340.650</td>\n",
       "      <td>-0.022469008</td>\n",
       "    </tr>\n",
       "    <tr>\n",
       "      <th>11</th>\n",
       "      <td>1/19/2011</td>\n",
       "      <td>338.840</td>\n",
       "      <td>-0.005313371</td>\n",
       "    </tr>\n",
       "    <tr>\n",
       "      <th>12</th>\n",
       "      <td>1/20/2011</td>\n",
       "      <td>332.680</td>\n",
       "      <td>-0.018179672</td>\n",
       "    </tr>\n",
       "    <tr>\n",
       "      <th>13</th>\n",
       "      <td>1/21/2011</td>\n",
       "      <td>326.720</td>\n",
       "      <td>-0.017915114</td>\n",
       "    </tr>\n",
       "    <tr>\n",
       "      <th>14</th>\n",
       "      <td>1/24/2011</td>\n",
       "      <td>337.450</td>\n",
       "      <td>0.032841577</td>\n",
       "    </tr>\n",
       "    <tr>\n",
       "      <th>15</th>\n",
       "      <td>1/25/2011</td>\n",
       "      <td>341.400</td>\n",
       "      <td>0.011705438</td>\n",
       "    </tr>\n",
       "    <tr>\n",
       "      <th>16</th>\n",
       "      <td>1/26/2011</td>\n",
       "      <td>343.850</td>\n",
       "      <td>0.007176333</td>\n",
       "    </tr>\n",
       "    <tr>\n",
       "      <th>17</th>\n",
       "      <td>1/27/2011</td>\n",
       "      <td>343.210</td>\n",
       "      <td>-0.001861277</td>\n",
       "    </tr>\n",
       "    <tr>\n",
       "      <th>18</th>\n",
       "      <td>1/28/2011</td>\n",
       "      <td>336.100</td>\n",
       "      <td>-0.02071618</td>\n",
       "    </tr>\n",
       "    <tr>\n",
       "      <th>19</th>\n",
       "      <td>1/31/2011</td>\n",
       "      <td>339.320</td>\n",
       "      <td>0.009580482</td>\n",
       "    </tr>\n",
       "    <tr>\n",
       "      <th>20</th>\n",
       "      <td>2/1/2011</td>\n",
       "      <td>345.030</td>\n",
       "      <td>0.016827773</td>\n",
       "    </tr>\n",
       "    <tr>\n",
       "      <th>21</th>\n",
       "      <td>2/2/2011</td>\n",
       "      <td>344.320</td>\n",
       "      <td>-0.002057792</td>\n",
       "    </tr>\n",
       "    <tr>\n",
       "      <th>22</th>\n",
       "      <td>2/3/2011</td>\n",
       "      <td>343.440</td>\n",
       "      <td>-0.002555762</td>\n",
       "    </tr>\n",
       "    <tr>\n",
       "      <th>23</th>\n",
       "      <td>2/4/2011</td>\n",
       "      <td>346.500</td>\n",
       "      <td>0.008909853</td>\n",
       "    </tr>\n",
       "    <tr>\n",
       "      <th>24</th>\n",
       "      <td>2/7/2011</td>\n",
       "      <td>351.880</td>\n",
       "      <td>0.015526696</td>\n",
       "    </tr>\n",
       "    <tr>\n",
       "      <th>25</th>\n",
       "      <td>2/8/2011</td>\n",
       "      <td>355.200</td>\n",
       "      <td>0.009435035</td>\n",
       "    </tr>\n",
       "    <tr>\n",
       "      <th>26</th>\n",
       "      <td>2/9/2011</td>\n",
       "      <td>358.160</td>\n",
       "      <td>0.008333333</td>\n",
       "    </tr>\n",
       "    <tr>\n",
       "      <th>27</th>\n",
       "      <td>2/10/2011</td>\n",
       "      <td>354.540</td>\n",
       "      <td>-0.010107215</td>\n",
       "    </tr>\n",
       "    <tr>\n",
       "      <th>28</th>\n",
       "      <td>2/11/2011</td>\n",
       "      <td>356.850</td>\n",
       "      <td>0.006515485</td>\n",
       "    </tr>\n",
       "    <tr>\n",
       "      <th>29</th>\n",
       "      <td>2/14/2011</td>\n",
       "      <td>359.180</td>\n",
       "      <td>0.006529354</td>\n",
       "    </tr>\n",
       "    <tr>\n",
       "      <th>...</th>\n",
       "      <td>...</td>\n",
       "      <td>...</td>\n",
       "      <td>...</td>\n",
       "    </tr>\n",
       "    <tr>\n",
       "      <th>222</th>\n",
       "      <td>11/17/2011</td>\n",
       "      <td>377.410</td>\n",
       "      <td>-0.01912831</td>\n",
       "    </tr>\n",
       "    <tr>\n",
       "      <th>223</th>\n",
       "      <td>11/18/2011</td>\n",
       "      <td>374.940</td>\n",
       "      <td>-0.006544607</td>\n",
       "    </tr>\n",
       "    <tr>\n",
       "      <th>224</th>\n",
       "      <td>11/21/2011</td>\n",
       "      <td>369.010</td>\n",
       "      <td>-0.015815864</td>\n",
       "    </tr>\n",
       "    <tr>\n",
       "      <th>225</th>\n",
       "      <td>11/22/2011</td>\n",
       "      <td>376.510</td>\n",
       "      <td>0.020324652</td>\n",
       "    </tr>\n",
       "    <tr>\n",
       "      <th>226</th>\n",
       "      <td>11/23/2011</td>\n",
       "      <td>366.990</td>\n",
       "      <td>-0.025284853</td>\n",
       "    </tr>\n",
       "    <tr>\n",
       "      <th>227</th>\n",
       "      <td>11/25/2011</td>\n",
       "      <td>363.570</td>\n",
       "      <td>-0.009319055</td>\n",
       "    </tr>\n",
       "    <tr>\n",
       "      <th>228</th>\n",
       "      <td>11/28/2011</td>\n",
       "      <td>376.120</td>\n",
       "      <td>0.0345188</td>\n",
       "    </tr>\n",
       "    <tr>\n",
       "      <th>229</th>\n",
       "      <td>11/29/2011</td>\n",
       "      <td>373.200</td>\n",
       "      <td>-0.00776348</td>\n",
       "    </tr>\n",
       "    <tr>\n",
       "      <th>230</th>\n",
       "      <td>11/30/2011</td>\n",
       "      <td>382.200</td>\n",
       "      <td>0.024115756</td>\n",
       "    </tr>\n",
       "    <tr>\n",
       "      <th>231</th>\n",
       "      <td>12/1/2011</td>\n",
       "      <td>387.930</td>\n",
       "      <td>0.014992151</td>\n",
       "    </tr>\n",
       "    <tr>\n",
       "      <th>232</th>\n",
       "      <td>12/2/2011</td>\n",
       "      <td>389.700</td>\n",
       "      <td>0.004562679</td>\n",
       "    </tr>\n",
       "    <tr>\n",
       "      <th>233</th>\n",
       "      <td>12/5/2011</td>\n",
       "      <td>393.010</td>\n",
       "      <td>0.008493713</td>\n",
       "    </tr>\n",
       "    <tr>\n",
       "      <th>234</th>\n",
       "      <td>12/6/2011</td>\n",
       "      <td>390.950</td>\n",
       "      <td>-0.005241597</td>\n",
       "    </tr>\n",
       "    <tr>\n",
       "      <th>235</th>\n",
       "      <td>12/7/2011</td>\n",
       "      <td>389.090</td>\n",
       "      <td>-0.004757642</td>\n",
       "    </tr>\n",
       "    <tr>\n",
       "      <th>236</th>\n",
       "      <td>12/8/2011</td>\n",
       "      <td>390.660</td>\n",
       "      <td>0.004035056</td>\n",
       "    </tr>\n",
       "    <tr>\n",
       "      <th>237</th>\n",
       "      <td>12/9/2011</td>\n",
       "      <td>393.620</td>\n",
       "      <td>0.007576921</td>\n",
       "    </tr>\n",
       "    <tr>\n",
       "      <th>238</th>\n",
       "      <td>12/12/2011</td>\n",
       "      <td>391.840</td>\n",
       "      <td>-0.004522128</td>\n",
       "    </tr>\n",
       "    <tr>\n",
       "      <th>239</th>\n",
       "      <td>12/13/2011</td>\n",
       "      <td>388.810</td>\n",
       "      <td>-0.007732748</td>\n",
       "    </tr>\n",
       "    <tr>\n",
       "      <th>240</th>\n",
       "      <td>12/14/2011</td>\n",
       "      <td>380.190</td>\n",
       "      <td>-0.022170212</td>\n",
       "    </tr>\n",
       "    <tr>\n",
       "      <th>241</th>\n",
       "      <td>12/15/2011</td>\n",
       "      <td>378.940</td>\n",
       "      <td>-0.00328783</td>\n",
       "    </tr>\n",
       "    <tr>\n",
       "      <th>242</th>\n",
       "      <td>12/16/2011</td>\n",
       "      <td>381.020</td>\n",
       "      <td>0.005488996</td>\n",
       "    </tr>\n",
       "    <tr>\n",
       "      <th>243</th>\n",
       "      <td>12/19/2011</td>\n",
       "      <td>382.210</td>\n",
       "      <td>0.003123196</td>\n",
       "    </tr>\n",
       "    <tr>\n",
       "      <th>244</th>\n",
       "      <td>12/20/2011</td>\n",
       "      <td>395.950</td>\n",
       "      <td>0.035948824</td>\n",
       "    </tr>\n",
       "    <tr>\n",
       "      <th>245</th>\n",
       "      <td>12/21/2011</td>\n",
       "      <td>396.445</td>\n",
       "      <td>0.001250158</td>\n",
       "    </tr>\n",
       "    <tr>\n",
       "      <th>246</th>\n",
       "      <td>12/22/2011</td>\n",
       "      <td>398.550</td>\n",
       "      <td>0.00530969</td>\n",
       "    </tr>\n",
       "    <tr>\n",
       "      <th>247</th>\n",
       "      <td>12/23/2011</td>\n",
       "      <td>403.330</td>\n",
       "      <td>0.011993476</td>\n",
       "    </tr>\n",
       "    <tr>\n",
       "      <th>248</th>\n",
       "      <td>12/27/2011</td>\n",
       "      <td>406.530</td>\n",
       "      <td>0.00793395</td>\n",
       "    </tr>\n",
       "    <tr>\n",
       "      <th>249</th>\n",
       "      <td>12/28/2011</td>\n",
       "      <td>402.640</td>\n",
       "      <td>-0.00956879</td>\n",
       "    </tr>\n",
       "    <tr>\n",
       "      <th>250</th>\n",
       "      <td>12/29/2011</td>\n",
       "      <td>405.120</td>\n",
       "      <td>0.006159348</td>\n",
       "    </tr>\n",
       "    <tr>\n",
       "      <th>251</th>\n",
       "      <td>12/30/2011</td>\n",
       "      <td>405.000</td>\n",
       "      <td>-0.000296209</td>\n",
       "    </tr>\n",
       "  </tbody>\n",
       "</table>\n",
       "<p>252 rows × 3 columns</p>\n",
       "</div>"
      ],
      "text/plain": [
       "           date    price percent_change\n",
       "0      1/3/2011  329.570          XXXXX\n",
       "1      1/4/2011  331.290    0.005218922\n",
       "2      1/5/2011  334.000    0.008180144\n",
       "3      1/6/2011  333.730   -0.000808383\n",
       "4      1/7/2011  336.120    0.007161478\n",
       "5     1/10/2011  342.455    0.018847435\n",
       "6     1/11/2011  341.640   -0.002379875\n",
       "7     1/12/2011  344.420     0.00813722\n",
       "8     1/13/2011  345.680    0.003658324\n",
       "9     1/14/2011  348.480    0.008099977\n",
       "10    1/18/2011  340.650   -0.022469008\n",
       "11    1/19/2011  338.840   -0.005313371\n",
       "12    1/20/2011  332.680   -0.018179672\n",
       "13    1/21/2011  326.720   -0.017915114\n",
       "14    1/24/2011  337.450    0.032841577\n",
       "15    1/25/2011  341.400    0.011705438\n",
       "16    1/26/2011  343.850    0.007176333\n",
       "17    1/27/2011  343.210   -0.001861277\n",
       "18    1/28/2011  336.100    -0.02071618\n",
       "19    1/31/2011  339.320    0.009580482\n",
       "20     2/1/2011  345.030    0.016827773\n",
       "21     2/2/2011  344.320   -0.002057792\n",
       "22     2/3/2011  343.440   -0.002555762\n",
       "23     2/4/2011  346.500    0.008909853\n",
       "24     2/7/2011  351.880    0.015526696\n",
       "25     2/8/2011  355.200    0.009435035\n",
       "26     2/9/2011  358.160    0.008333333\n",
       "27    2/10/2011  354.540   -0.010107215\n",
       "28    2/11/2011  356.850    0.006515485\n",
       "29    2/14/2011  359.180    0.006529354\n",
       "..          ...      ...            ...\n",
       "222  11/17/2011  377.410    -0.01912831\n",
       "223  11/18/2011  374.940   -0.006544607\n",
       "224  11/21/2011  369.010   -0.015815864\n",
       "225  11/22/2011  376.510    0.020324652\n",
       "226  11/23/2011  366.990   -0.025284853\n",
       "227  11/25/2011  363.570   -0.009319055\n",
       "228  11/28/2011  376.120      0.0345188\n",
       "229  11/29/2011  373.200    -0.00776348\n",
       "230  11/30/2011  382.200    0.024115756\n",
       "231   12/1/2011  387.930    0.014992151\n",
       "232   12/2/2011  389.700    0.004562679\n",
       "233   12/5/2011  393.010    0.008493713\n",
       "234   12/6/2011  390.950   -0.005241597\n",
       "235   12/7/2011  389.090   -0.004757642\n",
       "236   12/8/2011  390.660    0.004035056\n",
       "237   12/9/2011  393.620    0.007576921\n",
       "238  12/12/2011  391.840   -0.004522128\n",
       "239  12/13/2011  388.810   -0.007732748\n",
       "240  12/14/2011  380.190   -0.022170212\n",
       "241  12/15/2011  378.940    -0.00328783\n",
       "242  12/16/2011  381.020    0.005488996\n",
       "243  12/19/2011  382.210    0.003123196\n",
       "244  12/20/2011  395.950    0.035948824\n",
       "245  12/21/2011  396.445    0.001250158\n",
       "246  12/22/2011  398.550     0.00530969\n",
       "247  12/23/2011  403.330    0.011993476\n",
       "248  12/27/2011  406.530     0.00793395\n",
       "249  12/28/2011  402.640    -0.00956879\n",
       "250  12/29/2011  405.120    0.006159348\n",
       "251  12/30/2011  405.000   -0.000296209\n",
       "\n",
       "[252 rows x 3 columns]"
      ]
     },
     "execution_count": 13,
     "metadata": {},
     "output_type": "execute_result"
    }
   ],
   "source": [
    "apple_df = pd.read_csv('data\\\\apple_2011.csv',names =['date','price','percent_change'],skiprows=1)\n",
    "apple_df"
   ]
  },
  {
   "cell_type": "code",
   "execution_count": 14,
   "metadata": {
    "collapsed": false
   },
   "outputs": [
    {
     "name": "stdout",
     "output_type": "stream",
     "text": [
      "Populating the interactive namespace from numpy and matplotlib\n"
     ]
    },
    {
     "name": "stderr",
     "output_type": "stream",
     "text": [
      "C:\\Users\\Shyam\\Anaconda2\\envs\\snakes\\lib\\site-packages\\IPython\\core\\magics\\pylab.py:161: UserWarning: pylab import has clobbered these variables: ['random', 'copy']\n",
      "`%matplotlib` prevents importing * from pylab and numpy\n",
      "  \"\\n`%matplotlib` prevents importing * from pylab and numpy\"\n"
     ]
    },
    {
     "data": {
      "text/plain": [
       "<matplotlib.axes._subplots.AxesSubplot at 0x2703a6a2fd0>"
      ]
     },
     "execution_count": 14,
     "metadata": {},
     "output_type": "execute_result"
    },
    {
     "data": {
      "image/png": "[encoded data removed]",
      "text/plain": [
       "<matplotlib.figure.Figure at 0x2703b224a20>"
      ]
     },
     "metadata": {},
     "output_type": "display_data"
    }
   ],
   "source": [
    "%pylab inline\n",
    "apple_df.set_value(0,'percent_change','0')\n",
    "apple_df.percent_change = apple_df.percent_change.astype('float64')\n",
    "apple_df.percent_change.plot.hist()"
   ]
  },
  {
   "cell_type": "code",
   "execution_count": 155,
   "metadata": {
    "collapsed": false
   },
   "outputs": [
    {
     "data": {
      "text/plain": [
       "<matplotlib.axes._subplots.AxesSubplot at 0x2703f0b6668>"
      ]
     },
     "execution_count": 155,
     "metadata": {},
     "output_type": "execute_result"
    },
    {
     "data": {
      "image/png": "[encoded data removed]",
      "text/plain": [
       "<matplotlib.figure.Figure at 0x2703efaee80>"
      ]
     },
     "metadata": {},
     "output_type": "display_data"
    }
   ],
   "source": [
    "apple_df.plot.scatter('percent_change','price')"
   ]
  },
  {
   "cell_type": "code",
   "execution_count": 148,
   "metadata": {
    "collapsed": false
   },
   "outputs": [],
   "source": [
    "#Function for complete calculation\n",
    "\n",
    "def random_array(apple_df):\n",
    "    import pandas as pd\n",
    "    import numpy as np\n",
    "    import copy\n",
    "    apple_df.set_value(0,'percent_change','0')\n",
    "    apple_df.percent_change = apple_df.percent_change.astype('float64')\n",
    "    last_price = apple_df['price'].loc[apple_df['price'].idxmax()]\n",
    "    final_df = np.array([])\n",
    "    count=20\n",
    "    final_value = 0\n",
    "    for j in range(0,10000):\n",
    "        sample_df = pd.DataFrame(apple_df.percent_change.sample(n=count))\n",
    "        sample_df = sample_df.reset_index(drop=True)\n",
    "        sample_df['updated_price'] = 0\n",
    "        sample_df.set_value(0,'updated_price',405)\n",
    "        sample_df['percent_change']=sample_df['percent_change'] + 1\n",
    "        for i in range(1,count):\n",
    "            sample_df.set_value(i,'updated_price',sample_df.updated_price.iloc[[i-1]] * sample_df['percent_change'].loc[sample_df.index[i]])\n",
    "        final_value = sample_df.get_value(count-1,'updated_price')\n",
    "        final_df = np.append(final_df,final_value)\n",
    "    return(final_df)\n",
    "    #print(final_df)"
   ]
  },
  {
   "cell_type": "code",
   "execution_count": 149,
   "metadata": {
    "collapsed": false
   },
   "outputs": [
    {
     "name": "stdout",
     "output_type": "stream",
     "text": [
      "[0, 1, 2, 3]\n"
     ]
    }
   ],
   "source": [
    "#Start 4 clients\n",
    "clients = parallel.Client()\n",
    "#clients.block = True\n",
    "print(clients.ids)\n",
    "dview = clients.direct_view()"
   ]
  },
  {
   "cell_type": "code",
   "execution_count": 151,
   "metadata": {
    "collapsed": false
   },
   "outputs": [
    {
     "data": {
      "text/plain": [
       "15.896673162708794"
      ]
     },
     "execution_count": 151,
     "metadata": {},
     "output_type": "execute_result"
    }
   ],
   "source": [
    "#With clients and load balancer\n",
    "view = clients.load_balanced_view()\n",
    "#view.apply_sync(random_array,apple_df)\n",
    "s2 = timeit.Timer(functools.partial(view.apply,random_array,apple_df))\n",
    "s2.timeit(number=10000)"
   ]
  },
  {
   "cell_type": "code",
   "execution_count": 156,
   "metadata": {
    "collapsed": false
   },
   "outputs": [
    {
     "data": {
      "text/plain": [
       "137.65057324682766"
      ]
     },
     "execution_count": 156,
     "metadata": {},
     "output_type": "execute_result"
    }
   ],
   "source": [
    "#Without clients and load balancer\n",
    "s2 = timeit.Timer(functools.partial(random_array,apple_df))\n",
    "s2.timeit(number=1)"
   ]
  },
  {
   "cell_type": "code",
   "execution_count": 153,
   "metadata": {
    "collapsed": false
   },
   "outputs": [
    {
     "data": {
      "text/plain": [
       "339.0"
      ]
     },
     "execution_count": 153,
     "metadata": {},
     "output_type": "execute_result"
    }
   ],
   "source": [
    "#Final 1% lowest percentile\n",
    "final_df = random_array(apple_df)\n",
    "np.percentile(final_df,1)"
   ]
  },
  {
   "cell_type": "code",
   "execution_count": 154,
   "metadata": {
    "collapsed": false
   },
   "outputs": [
    {
     "data": {
      "text/plain": [
       "(array([   15.,   169.,   853.,  2279.,  2895.,  2344.,  1047.,   323.,\n",
       "           64.,    11.]),\n",
       " array([ 302. ,  323.8,  345.6,  367.4,  389.2,  411. ,  432.8,  454.6,\n",
       "         476.4,  498.2,  520. ]),\n",
       " <a list of 10 Patch objects>)"
      ]
     },
     "execution_count": 154,
     "metadata": {},
     "output_type": "execute_result"
    },
    {
     "data": {
      "image/png": "[encoded data removed]",
      "text/plain": [
       "<matplotlib.figure.Figure at 0x2703f096f60>"
      ]
     },
     "metadata": {},
     "output_type": "display_data"
    }
   ],
   "source": [
    "hist(final_df)"
   ]
  },
  {
   "cell_type": "code",
   "execution_count": null,
   "metadata": {
    "collapsed": true
   },
   "outputs": [],
   "source": []
  }
 ],
 "metadata": {
  "anaconda-cloud": {},
  "kernelspec": {
   "display_name": "Python 3",
   "language": "python",
   "name": "python3"
  },
  "language_info": {
   "codemirror_mode": {
    "name": "ipython",
    "version": 3
   },
   "file_extension": ".py",
   "mimetype": "text/x-python",
   "name": "python",
   "nbconvert_exporter": "python",
   "pygments_lexer": "ipython3",
   "version": "3.5.1"
  }
 },
 "nbformat": 4,
 "nbformat_minor": 1
}
