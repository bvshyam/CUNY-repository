{
 "cells": [
  {
   "cell_type": "markdown",
   "metadata": {},
   "source": [
    "# Curve Fitting using scipy"
   ]
  },
  {
   "cell_type": "markdown",
   "metadata": {},
   "source": [
    "One of the most important common tasks a physicist (and even chemists) has to do is to fit experimental  \n",
    "data to a theoretical model. In this notebook, I'll demonstrate how to fit data to a theoretical model,  \n",
    "and show a second example that illustrates one of the common pitfalls in curve fitting (not converging  \n",
    "to an acceptable fit) and how to remedy the situation.\n",
    "\n",
    "Because I don't want to deal with the reading in of a datafile in this notebook (just so we can focus  \n",
    "on the curve fitting), I will generate some fake data by adding random noise to an analytic function.  \n",
    "This function is actually our model function for fitting our data. When you go to fit data from an actual  \n",
    "experiment, you'll need to create your own custom function, and the scipy curve_fit routine will use this  \n",
    "function to fit your data. \n",
    "\n",
    "So, here are the needed libraries and our fitting function (which we'll also use to generate fake data):"
   ]
  },
  {
   "cell_type": "code",
   "execution_count": 2,
   "metadata": {
    "collapsed": false
   },
   "outputs": [],
   "source": [
    "import numpy as np\n",
    "import matplotlib.pyplot as plt\n",
    "from scipy.optimize import curve_fit\n",
    "\n",
    "def fitFunc(t, a, b, c):\n",
    "    return a*np.exp(-b*t) + c\n"
   ]
  },
  {
   "cell_type": "markdown",
   "metadata": {},
   "source": [
    "Now we create \n",
    "(1) a numpy array (t) with 50 linearly spaced points between 0 and 4,  \n",
    "(2) a numpy array (temp) with 50 temperatures using a = 5.0, b = 1.5, and c = 0.5  \n",
    "(3) a numpy array (noisy) with gaussian noise added to the array temp\n",
    "and then,   \n",
    "we use the scipy routine curve_fit to find the best fit parameters in the function fitFunc;  \n",
    "the curve_fit routine returns and array of fit coefficients and a matrix of fit covariances  \n",
    "(the diagonals of which are the squares of the 1 sigma uncertainties on the fit coefficients):"
   ]
  },
  {
   "cell_type": "code",
   "execution_count": 3,
   "metadata": {
    "collapsed": false
   },
   "outputs": [
    {
     "name": "stdout",
     "output_type": "stream",
     "text": [
      " fit coefficients:\n",
      "[ 4.8283313   1.4828029   0.49743617]\n",
      " Covariance matrix:\n",
      "[[ 0.02118442  0.00552088 -0.00079277]\n",
      " [ 0.00552088  0.00831224  0.00342244]\n",
      " [-0.00079277  0.00342244  0.00303859]]\n"
     ]
    }
   ],
   "source": [
    "t = np.linspace(0,4,50)\n",
    "temp = fitFunc(t, 5.0, 1.5, 0.5)\n",
    "noisy = temp + 0.25*np.random.normal(size=len(temp))\n",
    "fitParams, fitCovariances = curve_fit(fitFunc, t, noisy)\n",
    "print ' fit coefficients:\\n', fitParams\n",
    "print ' Covariance matrix:\\n', fitCovariances"
   ]
  },
  {
   "cell_type": "markdown",
   "metadata": {},
   "source": [
    "Here's a plot of the (fake) data and the best fit:"
   ]
  },
  {
   "cell_type": "code",
   "execution_count": 5,
   "metadata": {
    "collapsed": false
   },
   "outputs": [
    {
     "ename": "NameError",
     "evalue": "name 'sqrt' is not defined",
     "output_type": "error",
     "traceback": [
      "\u001b[0;31m---------------------------------------------------------------------------\u001b[0m",
      "\u001b[0;31mNameError\u001b[0m                                 Traceback (most recent call last)",
      "\u001b[0;32m<ipython-input-5-303f84030340>\u001b[0m in \u001b[0;36m<module>\u001b[0;34m()\u001b[0m\n\u001b[1;32m      8\u001b[0m \u001b[1;31m# (the square root of the diagonal covariance matrix\u001b[0m\u001b[1;33m\u001b[0m\u001b[1;33m\u001b[0m\u001b[0m\n\u001b[1;32m      9\u001b[0m \u001b[1;31m# element is the uncertianty on the fit parameter.)\u001b[0m\u001b[1;33m\u001b[0m\u001b[1;33m\u001b[0m\u001b[0m\n\u001b[0;32m---> 10\u001b[0;31m \u001b[0msigma\u001b[0m \u001b[1;33m=\u001b[0m \u001b[1;33m[\u001b[0m\u001b[0msqrt\u001b[0m\u001b[1;33m(\u001b[0m\u001b[0mfitCovariances\u001b[0m\u001b[1;33m[\u001b[0m\u001b[1;36m0\u001b[0m\u001b[1;33m,\u001b[0m\u001b[1;36m0\u001b[0m\u001b[1;33m]\u001b[0m\u001b[1;33m)\u001b[0m\u001b[1;33m,\u001b[0m          \u001b[0msqrt\u001b[0m\u001b[1;33m(\u001b[0m\u001b[0mfitCovariances\u001b[0m\u001b[1;33m[\u001b[0m\u001b[1;36m1\u001b[0m\u001b[1;33m,\u001b[0m\u001b[1;36m1\u001b[0m\u001b[1;33m]\u001b[0m\u001b[1;33m)\u001b[0m\u001b[1;33m,\u001b[0m          \u001b[0msqrt\u001b[0m\u001b[1;33m(\u001b[0m\u001b[0mfitCovariances\u001b[0m\u001b[1;33m[\u001b[0m\u001b[1;36m2\u001b[0m\u001b[1;33m,\u001b[0m\u001b[1;36m2\u001b[0m\u001b[1;33m]\u001b[0m\u001b[1;33m)\u001b[0m \u001b[1;33m]\u001b[0m\u001b[1;33m\u001b[0m\u001b[0m\n\u001b[0m\u001b[1;32m     11\u001b[0m \u001b[0mplt\u001b[0m\u001b[1;33m.\u001b[0m\u001b[0mplot\u001b[0m\u001b[1;33m(\u001b[0m\u001b[0mt\u001b[0m\u001b[1;33m,\u001b[0m \u001b[0mfitFunc\u001b[0m\u001b[1;33m(\u001b[0m\u001b[0mt\u001b[0m\u001b[1;33m,\u001b[0m \u001b[0mfitParams\u001b[0m\u001b[1;33m[\u001b[0m\u001b[1;36m0\u001b[0m\u001b[1;33m]\u001b[0m\u001b[1;33m,\u001b[0m \u001b[0mfitParams\u001b[0m\u001b[1;33m[\u001b[0m\u001b[1;36m1\u001b[0m\u001b[1;33m]\u001b[0m\u001b[1;33m,\u001b[0m \u001b[0mfitParams\u001b[0m\u001b[1;33m[\u001b[0m\u001b[1;36m2\u001b[0m\u001b[1;33m]\u001b[0m\u001b[1;33m)\u001b[0m\u001b[1;33m,\u001b[0m         \u001b[0mt\u001b[0m\u001b[1;33m,\u001b[0m \u001b[0mfitFunc\u001b[0m\u001b[1;33m(\u001b[0m\u001b[0mt\u001b[0m\u001b[1;33m,\u001b[0m \u001b[0mfitParams\u001b[0m\u001b[1;33m[\u001b[0m\u001b[1;36m0\u001b[0m\u001b[1;33m]\u001b[0m \u001b[1;33m+\u001b[0m \u001b[0msigma\u001b[0m\u001b[1;33m[\u001b[0m\u001b[1;36m0\u001b[0m\u001b[1;33m]\u001b[0m\u001b[1;33m,\u001b[0m \u001b[0mfitParams\u001b[0m\u001b[1;33m[\u001b[0m\u001b[1;36m1\u001b[0m\u001b[1;33m]\u001b[0m \u001b[1;33m-\u001b[0m \u001b[0msigma\u001b[0m\u001b[1;33m[\u001b[0m\u001b[1;36m1\u001b[0m\u001b[1;33m]\u001b[0m\u001b[1;33m,\u001b[0m \u001b[0mfitParams\u001b[0m\u001b[1;33m[\u001b[0m\u001b[1;36m2\u001b[0m\u001b[1;33m]\u001b[0m \u001b[1;33m+\u001b[0m \u001b[0msigma\u001b[0m\u001b[1;33m[\u001b[0m\u001b[1;36m2\u001b[0m\u001b[1;33m]\u001b[0m\u001b[1;33m)\u001b[0m\u001b[1;33m,\u001b[0m         \u001b[0mt\u001b[0m\u001b[1;33m,\u001b[0m \u001b[0mfitFunc\u001b[0m\u001b[1;33m(\u001b[0m\u001b[0mt\u001b[0m\u001b[1;33m,\u001b[0m \u001b[0mfitParams\u001b[0m\u001b[1;33m[\u001b[0m\u001b[1;36m0\u001b[0m\u001b[1;33m]\u001b[0m \u001b[1;33m-\u001b[0m \u001b[0msigma\u001b[0m\u001b[1;33m[\u001b[0m\u001b[1;36m0\u001b[0m\u001b[1;33m]\u001b[0m\u001b[1;33m,\u001b[0m \u001b[0mfitParams\u001b[0m\u001b[1;33m[\u001b[0m\u001b[1;36m1\u001b[0m\u001b[1;33m]\u001b[0m \u001b[1;33m+\u001b[0m \u001b[0msigma\u001b[0m\u001b[1;33m[\u001b[0m\u001b[1;36m1\u001b[0m\u001b[1;33m]\u001b[0m\u001b[1;33m,\u001b[0m \u001b[0mfitParams\u001b[0m\u001b[1;33m[\u001b[0m\u001b[1;36m2\u001b[0m\u001b[1;33m]\u001b[0m \u001b[1;33m-\u001b[0m \u001b[0msigma\u001b[0m\u001b[1;33m[\u001b[0m\u001b[1;36m2\u001b[0m\u001b[1;33m]\u001b[0m\u001b[1;33m)\u001b[0m         \u001b[1;33m)\u001b[0m\u001b[1;33m\u001b[0m\u001b[0m\n\u001b[1;32m     12\u001b[0m \u001b[1;31m# save plot to a file\u001b[0m\u001b[1;33m\u001b[0m\u001b[1;33m\u001b[0m\u001b[0m\n",
      "\u001b[0;31mNameError\u001b[0m: name 'sqrt' is not defined"
     ]
    }
   ],
   "source": [
    "#rcParams['figure.figsize'] = 10, 6 \n",
    "plt.ylabel('Temperature (C)', fontsize = 16)\n",
    "plt.xlabel('time (s)', fontsize = 16)\n",
    "plt.xlim(0,4.1)\n",
    "# plot the data as red circles with vertical errorbars\n",
    "plt.errorbar(t, noisy, fmt = 'ro', yerr = 0.2)\n",
    "# now plot the best fit curve and also +- 1 sigma curves\n",
    "# (the square root of the diagonal covariance matrix  \n",
    "# element is the uncertianty on the fit parameter.)\n",
    "sigma = [sqrt(fitCovariances[0,0]), \\\n",
    "         sqrt(fitCovariances[1,1]), \\\n",
    "         sqrt(fitCovariances[2,2]) ]\n",
    "plt.plot(t, fitFunc(t, fitParams[0], fitParams[1], fitParams[2]),\\\n",
    "         t, fitFunc(t, fitParams[0] + sigma[0], fitParams[1] - sigma[1], fitParams[2] + sigma[2]),\\\n",
    "         t, fitFunc(t, fitParams[0] - sigma[0], fitParams[1] + sigma[1], fitParams[2] - sigma[2])\\\n",
    "         )\n",
    "# save plot to a file\n",
    "savefig('dataFitted.pdf', bbox_inches=0, dpi=600)"
   ]
  },
  {
   "cell_type": "markdown",
   "metadata": {},
   "source": [
    "# Another Example with initial guesses for fit parameters"
   ]
  },
  {
   "cell_type": "markdown",
   "metadata": {},
   "source": [
    "The curve_fit routine uses values of 1.0 for intial guesses for the fit parameters.  \n",
    "That worked ok on the previous problem, but sometimes, one is faced with a situation  \n",
    "where the fit will not converge, and in this case, you (as the intelligent user)  \n",
    "must provide an intelligent guess for a starting point. \n",
    "\n",
    "Here I define some data equally spaced in time, and an array of termperatures  \n",
    "that we hope to fit to an exponential reminiscent of a charging capacitor.  \n",
    "I take this array of temperatures, and add some random noise and also define  \n",
    "error bars on the termperature values: "
   ]
  },
  {
   "cell_type": "code",
   "execution_count": 13,
   "metadata": {
    "collapsed": false
   },
   "outputs": [],
   "source": [
    "def cap(x, a, b):\n",
    "    return a*(1-np.exp(b*x))\n",
    "t = linspace(0.4,2.0, 9)\n",
    "temps = np.array([13.76, 17.47, 19.95, 21.62, 22.73, 23.48, 23.98, 24.32, 24.54])\n",
    "temps = temps + 0.4*np.random.normal(size=len(temps))\n",
    "dTemps = np.array([1.2, 0.9, 1.0, 0.8, 0.7, 0.7, 0.6, 0.5, 0.5])"
   ]
  },
  {
   "cell_type": "code",
   "execution_count": 24,
   "metadata": {
    "collapsed": false
   },
   "outputs": [
    {
     "ename": "RuntimeError",
     "evalue": "Optimal parameters not found: Number of calls to function has reached maxfev = 600.",
     "output_type": "error",
     "traceback": [
      "\u001b[0;31m---------------------------------------------------------------------------\u001b[0m\n\u001b[0;31mRuntimeError\u001b[0m                              Traceback (most recent call last)",
      "\u001b[0;32m<ipython-input-24-8ab9b7fc8e96>\u001b[0m in \u001b[0;36m<module>\u001b[0;34m()\u001b[0m\n\u001b[1;32m      1\u001b[0m \u001b[0;31m# if you run this code, it won't work. Look at the error message that results:\u001b[0m\u001b[0;34m\u001b[0m\u001b[0;34m\u001b[0m\u001b[0m\n\u001b[0;32m----> 2\u001b[0;31m \u001b[0mfitParams\u001b[0m\u001b[0;34m,\u001b[0m \u001b[0mfitCovariances\u001b[0m \u001b[0;34m=\u001b[0m \u001b[0mcurve_fit\u001b[0m\u001b[0;34m(\u001b[0m\u001b[0mcap\u001b[0m\u001b[0;34m,\u001b[0m \u001b[0mt\u001b[0m\u001b[0;34m,\u001b[0m \u001b[0mtemps\u001b[0m\u001b[0;34m)\u001b[0m\u001b[0;34m\u001b[0m\u001b[0m\n\u001b[0m\u001b[1;32m      3\u001b[0m \u001b[0;32mprint\u001b[0m \u001b[0mfitParams\u001b[0m\u001b[0;34m\u001b[0m\u001b[0m\n\u001b[1;32m      4\u001b[0m \u001b[0;32mprint\u001b[0m \u001b[0mfitCovariances\u001b[0m\u001b[0;34m\u001b[0m\u001b[0m\n",
      "\u001b[0;32m/Volumes/Daiju_1Tb/pauln/Library/Enthought/Canopy_64bit/User/lib/python2.7/site-packages/scipy/optimize/minpack.pyc\u001b[0m in \u001b[0;36mcurve_fit\u001b[0;34m(f, xdata, ydata, p0, sigma, **kw)\u001b[0m\n\u001b[1;32m    518\u001b[0m     \u001b[0;32mif\u001b[0m \u001b[0mier\u001b[0m \u001b[0;32mnot\u001b[0m \u001b[0;32min\u001b[0m \u001b[0;34m[\u001b[0m\u001b[0;36m1\u001b[0m\u001b[0;34m,\u001b[0m\u001b[0;36m2\u001b[0m\u001b[0;34m,\u001b[0m\u001b[0;36m3\u001b[0m\u001b[0;34m,\u001b[0m\u001b[0;36m4\u001b[0m\u001b[0;34m]\u001b[0m\u001b[0;34m:\u001b[0m\u001b[0;34m\u001b[0m\u001b[0m\n\u001b[1;32m    519\u001b[0m         \u001b[0mmsg\u001b[0m \u001b[0;34m=\u001b[0m \u001b[0;34m\"Optimal parameters not found: \"\u001b[0m \u001b[0;34m+\u001b[0m \u001b[0merrmsg\u001b[0m\u001b[0;34m\u001b[0m\u001b[0m\n\u001b[0;32m--> 520\u001b[0;31m         \u001b[0;32mraise\u001b[0m \u001b[0mRuntimeError\u001b[0m\u001b[0;34m(\u001b[0m\u001b[0mmsg\u001b[0m\u001b[0;34m)\u001b[0m\u001b[0;34m\u001b[0m\u001b[0m\n\u001b[0m\u001b[1;32m    521\u001b[0m \u001b[0;34m\u001b[0m\u001b[0m\n\u001b[1;32m    522\u001b[0m     \u001b[0;32mif\u001b[0m \u001b[0;34m(\u001b[0m\u001b[0mlen\u001b[0m\u001b[0;34m(\u001b[0m\u001b[0mydata\u001b[0m\u001b[0;34m)\u001b[0m \u001b[0;34m>\u001b[0m \u001b[0mlen\u001b[0m\u001b[0;34m(\u001b[0m\u001b[0mp0\u001b[0m\u001b[0;34m)\u001b[0m\u001b[0;34m)\u001b[0m \u001b[0;32mand\u001b[0m \u001b[0mpcov\u001b[0m \u001b[0;32mis\u001b[0m \u001b[0;32mnot\u001b[0m \u001b[0mNone\u001b[0m\u001b[0;34m:\u001b[0m\u001b[0;34m\u001b[0m\u001b[0m\n",
      "\u001b[0;31mRuntimeError\u001b[0m: Optimal parameters not found: Number of calls to function has reached maxfev = 600."
     ]
    }
   ],
   "source": [
    "# if you run this code, it won't work. Look at the error message that results:\n",
    "fitParams, fitCovariances = curve_fit(cap, t, temps)\n",
    "print fitParams\n",
    "print fitCovariances"
   ]
  },
  {
   "cell_type": "markdown",
   "metadata": {},
   "source": [
    "Now I add some initial guesses for  a  and  b; notice the fit now works fine (Think of p0 as an array of Parameter values at t=0):"
   ]
  },
  {
   "cell_type": "code",
   "execution_count": 14,
   "metadata": {
    "collapsed": false
   },
   "outputs": [
    {
     "name": "stdout",
     "output_type": "stream",
     "text": [
      " fit coefficients:\n",
      "[ 25.34534677  -1.92275824]\n",
      " Covariance matrix:\n",
      "[[ 0.08988186  0.01950881]\n",
      " [ 0.01950881  0.00595283]]\n"
     ]
    }
   ],
   "source": [
    "fitParams, fitCovariances = curve_fit(cap, t, temps, p0 = [25.0, -1.0])\n",
    "print ' fit coefficients:\\n', fitParams\n",
    "print ' Covariance matrix:\\n', fitCovariances"
   ]
  },
  {
   "cell_type": "code",
   "execution_count": 20,
   "metadata": {
    "collapsed": false
   },
   "outputs": [
    {
     "data": {
      "text/plain": [
       "[<matplotlib.lines.Line2D at 0x10ed8f190>,\n",
       " <matplotlib.lines.Line2D at 0x10ed86e50>,\n",
       " <matplotlib.lines.Line2D at 0x10ed86790>]"
      ]
     },
     "execution_count": 20,
     "metadata": {},
     "output_type": "execute_result"
    },
    {
     "data": {
      "image/png": "[encoded data removed]",
      "text/plain": [
       "<matplotlib.figure.Figure at 0x10ed8f0d0>"
      ]
     },
     "metadata": {},
     "output_type": "display_data"
    }
   ],
   "source": [
    "plt.ylabel('Temperature (C)', fontsize = 16)\n",
    "plt.xlabel('time (s)', fontsize = 16)\n",
    "plt.xlim(0,2.2)\n",
    "plt.ylim(12, 26)\n",
    "errorbar(t, temps, yerr = dTemps, xerr = 0.1, fmt='ro')\n",
    "plot(t, cap(t, fitParams[0], fitParams[1]),\n",
    "     t, cap(t, fitParams[0] + sqrt(fitCovariances[0,0]), fitParams[1] - sqrt(fitCovariances[1,1])),\n",
    "     t, cap(t, fitParams[0] - sqrt(fitCovariances[0,0]), fitParams[1] + sqrt(fitCovariances[1,1]))\n",
    "     )"
   ]
  },
  {
   "cell_type": "code",
   "execution_count": null,
   "metadata": {
    "collapsed": false
   },
   "outputs": [],
   "source": []
  }
 ],
 "metadata": {
  "kernelspec": {
   "display_name": "Python 2",
   "language": "python",
   "name": "python2"
  },
  "language_info": {
   "codemirror_mode": {
    "name": "ipython",
    "version": 2
   },
   "file_extension": ".py",
   "mimetype": "text/x-python",
   "name": "python",
   "nbconvert_exporter": "python",
   "pygments_lexer": "ipython2",
   "version": "2.7.13"
  }
 },
 "nbformat": 4,
 "nbformat_minor": 0
}
