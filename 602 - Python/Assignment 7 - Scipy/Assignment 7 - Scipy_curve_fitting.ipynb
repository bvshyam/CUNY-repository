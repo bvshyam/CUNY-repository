{
 "cells": [
  {
   "cell_type": "markdown",
   "metadata": {},
   "source": [
    "Homework 7\n",
    "\n",
    "What we are doing here is very similar to homework 6, but now we'll look a bit at scipy.\n",
    "\n",
    "Do parts 1 and 2.  Part 3 is optional\n",
    "\n",
    "1. Take what you did on homework 5 as a starting point (using any of the provided datasets).  Replace the regression calculation using least squares with a curve fitting approach (examples in the reading).  To start, just fit a linear equation.  Output the equation to the console.  You don't need to graph anything (we'll look at that in a couple more weeks).\n",
    "2. Again, using timeit, compare the performance of your solution in homework 5 to the scipy function.  Output the results to the console.\n",
    "3. (Optional)  There are other models that can be fitted to the data we have.  Try to fit other equations, like Gaussian, to the data.  Output the equation to the console."
   ]
  },
  {
   "cell_type": "code",
   "execution_count": 1,
   "metadata": {
    "collapsed": true
   },
   "outputs": [],
   "source": [
    "#Part - Manual Curve Fitting"
   ]
  },
  {
   "cell_type": "code",
   "execution_count": 2,
   "metadata": {
    "collapsed": false
   },
   "outputs": [],
   "source": [
    "import csv\n",
    "import math\n",
    "from scipy.optimize import curve_fit\n",
    "import numpy as np\n",
    "import matplotlib.pyplot as plt\n",
    "import timeit, functools\n",
    "\n",
    "\n",
    "def manual_curve_fitting(br,bo):\n",
    "    def mean(x):\n",
    "        return sum(x)/len(x)\n",
    "    \n",
    "    # Calculating Standard deviation\n",
    "    def manual_sd(sd_values):\n",
    "        mean_val = mean(sd_values)\n",
    "        sd = math.sqrt(sum((i-mean_val)*(i-mean_val) for i in sd_values)/(len(sd_values)-1))\n",
    "        return sd\n",
    "    \n",
    "    # Calculating Correlation\n",
    "    def correlation(cor_br, cor_bo):\n",
    "        mean_cor_br = mean(cor_br)\n",
    "        mean_cor_bo = mean(cor_bo)\n",
    "    \n",
    "        sd_a = manual_sd(cor_br)\n",
    "        sd_b = manual_sd(cor_bo)\n",
    "        R = []\n",
    "        for i in range(len(cor_br)):\n",
    "            R.append(((cor_br[i]-mean_cor_br)*(cor_bo[i]-mean_cor_bo))/(sd_a*sd_b))\n",
    "        R_correlation = sum(R)/(len(cor_br)-1)\n",
    "        return R_correlation\n",
    "    \n",
    "    \n",
    "    sd_br = manual_sd(br)\n",
    "    sd_bo = manual_sd(bo)\n",
    "    R = correlation(br, bo)\n",
    "    x = (sd_bo/sd_br)*R\n",
    "    y = mean(bo) - x*mean(br)\n",
    "        \n",
    "    return(x,y)\n"
   ]
  },
  {
   "cell_type": "code",
   "execution_count": 3,
   "metadata": {
    "collapsed": true
   },
   "outputs": [],
   "source": [
    "#Part - Scipy Curve Fitting"
   ]
  },
  {
   "cell_type": "code",
   "execution_count": 4,
   "metadata": {
    "collapsed": false
   },
   "outputs": [],
   "source": [
    "def func(br, a, b):\n",
    "    return(a*br+b)\n",
    "\n",
    "def scipy_curve_fitting(br, bo):\n",
    "    fitParams, fitCov = curve_fit(func, br, bo)\n",
    "\n",
    "    return fitParams, fitCov"
   ]
  },
  {
   "cell_type": "code",
   "execution_count": 5,
   "metadata": {
    "collapsed": false
   },
   "outputs": [],
   "source": [
    "def gauss_func(x, a, b, c):\n",
    "    return(a*np.exp(-((x-b)**2)/(2*c**2)))\n",
    "\n",
    "def gaussian_curve_fitting():\n",
    "   \n",
    "    x = np.linspace(0, 10, 100)\n",
    "    y = gauss_func(x, 1, 5, 2)\n",
    "    fitParams, fitCov = curve_fit(gauss_func, x, y)\n",
    "    return fitParams, fitCov, x"
   ]
  },
  {
   "cell_type": "code",
   "execution_count": 6,
   "metadata": {
    "collapsed": true
   },
   "outputs": [],
   "source": [
    "#Part - Read input file and call functions"
   ]
  },
  {
   "cell_type": "code",
   "execution_count": 7,
   "metadata": {
    "collapsed": false
   },
   "outputs": [
    {
     "name": "stdout",
     "output_type": "stream",
     "text": [
      "Time of Each distribution:\n",
      "Manual Curve Fitting: 0.0475341\n",
      "Scipy Curve Fitting: 0.1679866\n",
      "Gauss Curve Fitting: 0.1541706\n",
      "\n",
      "Fit Coefficients:\n",
      " [  0.90291295 -56.85554543]\n",
      "\n",
      "Covariance Matrix:\n",
      " [[  1.98267798e-03  -5.61364161e-01]\n",
      " [ -5.61364161e-01   1.84711327e+03]]\n"
     ]
    },
    {
     "data": {
      "image/png": "[encoded data removed]",
      "text/plain": [
       "<matplotlib.figure.Figure at 0x83b7470>"
      ]
     },
     "metadata": {},
     "output_type": "display_data"
    },
    {
     "data": {
      "image/png": "[encoded data removed]",
      "text/plain": [
       "<matplotlib.figure.Figure at 0x87dff60>"
      ]
     },
     "metadata": {},
     "output_type": "display_data"
    }
   ],
   "source": [
    "brain_body = open(\"data\\/brainandbody.csv\", \"r\")\n",
    "reader = csv.reader(brain_body)\n",
    "br = []\n",
    "bo = []\n",
    "row_num = 0\n",
    "\n",
    "try:\n",
    "    for brbo in reader:\n",
    "        if row_num == 0:\n",
    "            header = brbo\n",
    "            row_num += 1\n",
    "        else:\n",
    "            br.append(float(brbo[2]))\n",
    "            bo.append(float(brbo[1]))\n",
    "except Exception as error:\n",
    "    print(\"Error in input file\")\n",
    "\n",
    "br = np.array(br)\n",
    "bo = np.array(bo)\n",
    "\n",
    "#Timeit\n",
    "n= 100\n",
    "\n",
    "print(\"Time of Each distribution:\")\n",
    "print(\"Manual Curve Fitting:\", timeit.Timer(functools.partial(manual_curve_fitting,br,bo)).timeit(number=n))\n",
    "print(\"Scipy Curve Fitting:\", timeit.Timer(functools.partial(scipy_curve_fitting,br,bo)).timeit(number=n))\n",
    "fitParams, fitCov = scipy_curve_fitting(br,bo)\n",
    "\n",
    "print(\"Gauss Curve Fitting:\", timeit.Timer(functools.partial(gaussian_curve_fitting)).timeit(number=n))\n",
    "fitParams1, fitCov1, x = gaussian_curve_fitting()\n",
    "\n",
    "print(\"\\nFit Coefficients:\\n\", fitParams)\n",
    "print(\"\\nCovariance Matrix:\\n\", fitCov)\n",
    "\n",
    "plt.xlabel('Brain', fontsize = 16)\n",
    "plt.ylabel('Body', fontsize = 16)\n",
    "plt.plot(br,func(br, fitParams[0], fitParams[1]))\n",
    "plt.scatter(br,func(br, fitParams[0], fitParams[1]))\n",
    "plt.show()\n",
    "\n",
    "#Gauss\n",
    "plt.plot(x,gauss_func(x, fitParams1[0], fitParams1[1], fitParams1[2]))\n",
    "plt.scatter(x,gauss_func(x, fitParams1[0], fitParams1[1], fitParams1[2]))\n",
    "plt.show()"
   ]
  },
  {
   "cell_type": "code",
   "execution_count": null,
   "metadata": {
    "collapsed": true
   },
   "outputs": [],
   "source": []
  }
 ],
 "metadata": {
  "anaconda-cloud": {},
  "kernelspec": {
   "display_name": "Python 3",
   "language": "python",
   "name": "python3"
  },
  "language_info": {
   "codemirror_mode": {
    "name": "ipython",
    "version": 3
   },
   "file_extension": ".py",
   "mimetype": "text/x-python",
   "name": "python",
   "nbconvert_exporter": "python",
   "pygments_lexer": "ipython3",
   "version": "3.5.1"
  }
 },
 "nbformat": 4,
 "nbformat_minor": 2
}
