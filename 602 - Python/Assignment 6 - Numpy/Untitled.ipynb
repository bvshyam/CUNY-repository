{
 "cells": [
  {
   "cell_type": "code",
   "execution_count": 7,
   "metadata": {
    "collapsed": false
   },
   "outputs": [
    {
     "data": {
      "text/plain": [
       "array([1, 2, 3, 4])"
      ]
     },
     "execution_count": 7,
     "metadata": {},
     "output_type": "execute_result"
    }
   ],
   "source": [
    "import numpy as np\n",
    "\n",
    "y = np.array([1,2,3,4,5])\n",
    "y[1::2]\n",
    "y[:-1]"
   ]
  },
  {
   "cell_type": "code",
   "execution_count": 26,
   "metadata": {
    "collapsed": false
   },
   "outputs": [
    {
     "data": {
      "text/plain": [
       "array([[[-1.        , -1.        , -1.        , ..., -1.        ,\n",
       "         -1.        , -1.        ],\n",
       "        [-0.97979798, -0.97979798, -0.97979798, ..., -0.97979798,\n",
       "         -0.97979798, -0.97979798],\n",
       "        [-0.95959596, -0.95959596, -0.95959596, ..., -0.95959596,\n",
       "         -0.95959596, -0.95959596],\n",
       "        ..., \n",
       "        [ 0.95959596,  0.95959596,  0.95959596, ...,  0.95959596,\n",
       "          0.95959596,  0.95959596],\n",
       "        [ 0.97979798,  0.97979798,  0.97979798, ...,  0.97979798,\n",
       "          0.97979798,  0.97979798],\n",
       "        [ 1.        ,  1.        ,  1.        , ...,  1.        ,\n",
       "          1.        ,  1.        ]],\n",
       "\n",
       "       [[-2.        , -1.95959596, -1.91919192, ...,  1.91919192,\n",
       "          1.95959596,  2.        ],\n",
       "        [-2.        , -1.95959596, -1.91919192, ...,  1.91919192,\n",
       "          1.95959596,  2.        ],\n",
       "        [-2.        , -1.95959596, -1.91919192, ...,  1.91919192,\n",
       "          1.95959596,  2.        ],\n",
       "        ..., \n",
       "        [-2.        , -1.95959596, -1.91919192, ...,  1.91919192,\n",
       "          1.95959596,  2.        ],\n",
       "        [-2.        , -1.95959596, -1.91919192, ...,  1.91919192,\n",
       "          1.95959596,  2.        ],\n",
       "        [-2.        , -1.95959596, -1.91919192, ...,  1.91919192,\n",
       "          1.95959596,  2.        ]]])"
      ]
     },
     "execution_count": 26,
     "metadata": {},
     "output_type": "execute_result"
    }
   ],
   "source": [
    "np.mgrid[-1:1:100j, -2:2:100j]"
   ]
  },
  {
   "cell_type": "code",
   "execution_count": 29,
   "metadata": {
    "collapsed": false
   },
   "outputs": [
    {
     "name": "stdout",
     "output_type": "stream",
     "text": [
      "[ 1.   1.5  2.   2.5  3.   3.5  4.   4.5  5.   5.5  6.   6.5  7.   7.5  8.\n",
      "  8.5  9.   9.5]\n"
     ]
    },
    {
     "data": {
      "text/plain": [
       "array([ 9.5,  9. ,  8.5,  8. ,  7.5,  7. ,  6.5,  6. ,  5.5,  5. ,  4.5,\n",
       "        4. ,  3.5,  3. ])"
      ]
     },
     "execution_count": 29,
     "metadata": {},
     "output_type": "execute_result"
    }
   ],
   "source": [
    "#x = np.arange(1,10,.5)\n",
    "print(x)\n",
    "x[-1:3:-1]"
   ]
  },
  {
   "cell_type": "code",
   "execution_count": 32,
   "metadata": {
    "collapsed": false
   },
   "outputs": [
    {
     "data": {
      "text/plain": [
       "array([[5],\n",
       "       [4]])"
      ]
     },
     "execution_count": 32,
     "metadata": {},
     "output_type": "execute_result"
    }
   ],
   "source": [
    "x,y = np.ogrid[5:3:-1,0:3]\n",
    "x"
   ]
  },
  {
   "cell_type": "code",
   "execution_count": 53,
   "metadata": {
    "collapsed": false
   },
   "outputs": [
    {
     "name": "stdout",
     "output_type": "stream",
     "text": [
      "[ 6.  7.  8.  9.]\n"
     ]
    },
    {
     "data": {
      "text/plain": [
       "(array([[ 1.,  2.,  3.],\n",
       "        [ 4.,  5.,  6.],\n",
       "        [ 7.,  8.,  9.]]), 5)"
      ]
     },
     "execution_count": 53,
     "metadata": {},
     "output_type": "execute_result"
    }
   ],
   "source": [
    "a= np.linspace(1,9,9)\n",
    "a.shape = (3,3)\n",
    "b=a.flat\n",
    "b[:]\n",
    "\n",
    "print(a[a >5])\n",
    "np.choose(a>5,(a,5))\n",
    "\n",
    "(a,5)"
   ]
  },
  {
   "cell_type": "code",
   "execution_count": 66,
   "metadata": {
    "collapsed": false
   },
   "outputs": [
    {
     "name": "stdout",
     "output_type": "stream",
     "text": [
      "[[[ 1.  1.  1.  1.  1.]\n",
      "  [ 1.  1.  1.  1.  1.]\n",
      "  [ 1.  1.  1.  1.  1.]]]\n"
     ]
    },
    {
     "data": {
      "text/plain": [
       "array([[ 2.,  2.,  2.,  2.,  2.],\n",
       "       [ 2.,  2.,  2.,  2.,  2.],\n",
       "       [ 2.,  2.,  2.,  2.,  2.]])"
      ]
     },
     "execution_count": 66,
     "metadata": {},
     "output_type": "execute_result"
    }
   ],
   "source": [
    "a = np.ones((3, 5))\n",
    "#print(a)\n",
    "b = np.ones((5,))\n",
    "b.reshape(1, 5)\n",
    "#print(b)\n",
    "print(a[np.newaxis, :])\n",
    "a+b"
   ]
  },
  {
   "cell_type": "code",
   "execution_count": 77,
   "metadata": {
    "collapsed": false
   },
   "outputs": [
    {
     "data": {
      "text/plain": [
       "<matplotlib.colorbar.Colorbar at 0x7dcdb38>"
      ]
     },
     "execution_count": 77,
     "metadata": {},
     "output_type": "execute_result"
    }
   ],
   "source": [
    "from math import sqrt\n",
    "import matplotlib.pyplot as plt\n",
    "a = np.linspace(0, 1, 15) - 0.5\n",
    "b = a[:, np.newaxis] # b.shape == (15, 1)\n",
    "dist2 = a**2 + b**2 # broadcasting sum.\n",
    "plt.imshow(dist2)\n",
    "plt.colorbar()\n"
   ]
  }
 ],
 "metadata": {
  "anaconda-cloud": {},
  "kernelspec": {
   "display_name": "Python [conda root]",
   "language": "python",
   "name": "conda-root-py"
  },
  "language_info": {
   "codemirror_mode": {
    "name": "ipython",
    "version": 3
   },
   "file_extension": ".py",
   "mimetype": "text/x-python",
   "name": "python",
   "nbconvert_exporter": "python",
   "pygments_lexer": "ipython3",
   "version": "3.5.2"
  }
 },
 "nbformat": 4,
 "nbformat_minor": 1
}
